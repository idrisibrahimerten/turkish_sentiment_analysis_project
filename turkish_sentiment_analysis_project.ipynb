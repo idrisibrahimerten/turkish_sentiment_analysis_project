{
 "cells": [
  {
   "cell_type": "markdown",
   "id": "33c07d5a",
   "metadata": {},
   "source": [
    "# Veri Seti Yükleme Alanı"
   ]
  },
  {
   "cell_type": "code",
   "execution_count": 34,
   "id": "3e49e46f",
   "metadata": {},
   "outputs": [],
   "source": [
    "import pandas as pd"
   ]
  },
  {
   "cell_type": "code",
   "execution_count": 7,
   "id": "4a674605",
   "metadata": {},
   "outputs": [],
   "source": [
    "data = pd.read_csv('./data.csv', delimiter='\\t')\n",
    "data = data.sample(frac=1).reset_index(drop=True)"
   ]
  },
  {
   "cell_type": "code",
   "execution_count": 8,
   "id": "92cf2bc3",
   "metadata": {},
   "outputs": [
    {
     "data": {
      "text/html": [
       "<div>\n",
       "<style scoped>\n",
       "    .dataframe tbody tr th:only-of-type {\n",
       "        vertical-align: middle;\n",
       "    }\n",
       "\n",
       "    .dataframe tbody tr th {\n",
       "        vertical-align: top;\n",
       "    }\n",
       "\n",
       "    .dataframe thead th {\n",
       "        text-align: right;\n",
       "    }\n",
       "</style>\n",
       "<table border=\"1\" class=\"dataframe\">\n",
       "  <thead>\n",
       "    <tr style=\"text-align: right;\">\n",
       "      <th></th>\n",
       "      <th>Unnamed: 0</th>\n",
       "      <th>YORUMLAR</th>\n",
       "      <th>DURUM</th>\n",
       "    </tr>\n",
       "  </thead>\n",
       "  <tbody>\n",
       "    <tr>\n",
       "      <th>0</th>\n",
       "      <td>65648</td>\n",
       "      <td>ben cok begendim ekran goruntusu mukemmel ses ...</td>\n",
       "      <td>pos</td>\n",
       "    </tr>\n",
       "    <tr>\n",
       "      <th>1</th>\n",
       "      <td>81900</td>\n",
       "      <td>güzel ve kullanışlı ürün.horoz kargoya çok teş...</td>\n",
       "      <td>pos</td>\n",
       "    </tr>\n",
       "    <tr>\n",
       "      <th>2</th>\n",
       "      <td>146848</td>\n",
       "      <td>estee lauder beyond paradise edp 100 ml  uygun...</td>\n",
       "      <td>pos</td>\n",
       "    </tr>\n",
       "    <tr>\n",
       "      <th>3</th>\n",
       "      <td>127616</td>\n",
       "      <td>led türlerinden anladığım için bu led ampulden...</td>\n",
       "      <td>pos</td>\n",
       "    </tr>\n",
       "    <tr>\n",
       "      <th>4</th>\n",
       "      <td>113702</td>\n",
       "      <td>kolide halı şampuanı ve parfümü çıktı</td>\n",
       "      <td>pos</td>\n",
       "    </tr>\n",
       "  </tbody>\n",
       "</table>\n",
       "</div>"
      ],
      "text/plain": [
       "   Unnamed: 0                                           YORUMLAR DURUM\n",
       "0       65648  ben cok begendim ekran goruntusu mukemmel ses ...   pos\n",
       "1       81900  güzel ve kullanışlı ürün.horoz kargoya çok teş...   pos\n",
       "2      146848  estee lauder beyond paradise edp 100 ml  uygun...   pos\n",
       "3      127616  led türlerinden anladığım için bu led ampulden...   pos\n",
       "4      113702              kolide halı şampuanı ve parfümü çıktı   pos"
      ]
     },
     "execution_count": 8,
     "metadata": {},
     "output_type": "execute_result"
    }
   ],
   "source": [
    "data.head()"
   ]
  },
  {
   "cell_type": "code",
   "execution_count": 9,
   "id": "32a91bbe",
   "metadata": {},
   "outputs": [
    {
     "data": {
      "text/plain": [
       "pos    219743\n",
       "neg     14878\n",
       "Name: DURUM, dtype: int64"
      ]
     },
     "execution_count": 9,
     "metadata": {},
     "output_type": "execute_result"
    }
   ],
   "source": [
    "data['DURUM'].value_counts()"
   ]
  },
  {
   "cell_type": "markdown",
   "id": "e9abfc20",
   "metadata": {},
   "source": [
    "# Veri Seti Önişleme"
   ]
  },
  {
   "cell_type": "code",
   "execution_count": 10,
   "id": "61209aab",
   "metadata": {},
   "outputs": [
    {
     "name": "stdout",
     "output_type": "stream",
     "text": [
      "showing info https://raw.githubusercontent.com/nltk/nltk_data/gh-pages/index.xml\n"
     ]
    },
    {
     "data": {
      "text/plain": [
       "True"
      ]
     },
     "execution_count": 10,
     "metadata": {},
     "output_type": "execute_result"
    }
   ],
   "source": [
    "import nltk\n",
    "nltk.download()"
   ]
  },
  {
   "cell_type": "code",
   "execution_count": 11,
   "id": "20cb47b6",
   "metadata": {},
   "outputs": [],
   "source": [
    "import string\n",
    "import re\n",
    "import nltk\n",
    "from nltk.corpus import stopwords\n",
    "\n",
    "noktalama = string.punctuation\n",
    "etkisiz = stopwords.words('turkish')"
   ]
  },
  {
   "cell_type": "code",
   "execution_count": 12,
   "id": "add1dcb3",
   "metadata": {},
   "outputs": [
    {
     "data": {
      "text/plain": [
       "'!\"#$%&\\'()*+,-./:;<=>?@[\\\\]^_`{|}~'"
      ]
     },
     "execution_count": 12,
     "metadata": {},
     "output_type": "execute_result"
    }
   ],
   "source": [
    "noktalama"
   ]
  },
  {
   "cell_type": "code",
   "execution_count": 13,
   "id": "18428e93",
   "metadata": {},
   "outputs": [
    {
     "data": {
      "text/plain": [
       "['acaba',\n",
       " 'ama',\n",
       " 'aslında',\n",
       " 'az',\n",
       " 'bazı',\n",
       " 'belki',\n",
       " 'biri',\n",
       " 'birkaç',\n",
       " 'birşey',\n",
       " 'biz',\n",
       " 'bu',\n",
       " 'çok',\n",
       " 'çünkü',\n",
       " 'da',\n",
       " 'daha',\n",
       " 'de',\n",
       " 'defa',\n",
       " 'diye',\n",
       " 'eğer',\n",
       " 'en',\n",
       " 'gibi',\n",
       " 'hem',\n",
       " 'hep',\n",
       " 'hepsi',\n",
       " 'her',\n",
       " 'hiç',\n",
       " 'için',\n",
       " 'ile',\n",
       " 'ise',\n",
       " 'kez',\n",
       " 'ki',\n",
       " 'kim',\n",
       " 'mı',\n",
       " 'mu',\n",
       " 'mü',\n",
       " 'nasıl',\n",
       " 'ne',\n",
       " 'neden',\n",
       " 'nerde',\n",
       " 'nerede',\n",
       " 'nereye',\n",
       " 'niçin',\n",
       " 'niye',\n",
       " 'o',\n",
       " 'sanki',\n",
       " 'şey',\n",
       " 'siz',\n",
       " 'şu',\n",
       " 'tüm',\n",
       " 've',\n",
       " 'veya',\n",
       " 'ya',\n",
       " 'yani']"
      ]
     },
     "execution_count": 13,
     "metadata": {},
     "output_type": "execute_result"
    }
   ],
   "source": [
    "etkisiz"
   ]
  },
  {
   "cell_type": "code",
   "execution_count": 27,
   "id": "86473df4",
   "metadata": {},
   "outputs": [
    {
     "name": "stdout",
     "output_type": "stream",
     "text": [
      "ben cok begendim ekran goruntusu mukemmel ses kaliteside benim icin yeterli birgunde elime ulasti cok hizli gonderimk tekrar cok tesekkur ederim hepsiburadaya \n",
      "--------------------------------------------------\n",
      "ben cok begendim ekran goruntusu mukemmel ses kaliteside benim icin yeterli birgunde elime ulasti cok hizli gonderimk tekrar cok tesekkur ederim hepsiburadaya \n",
      "**************************************************\n",
      "güzel ve kullanışlı ürün.horoz kargoya çok teşekkür ederiz kapımıza kadar getirdiği için.\n",
      "--------------------------------------------------\n",
      "güzel kullanışlı ürün.horoz kargoya teşekkür ederiz kapımıza kadar getirdiği için. \n",
      "**************************************************\n",
      "estee lauder beyond paradise edp 100 ml  uygun fiat ve orjinal parfüm için hepsi buradaya teşekkürler  tekrar satışta görürsem yine alacağım çünkü bulmakta zorlanıyorum\n",
      "--------------------------------------------------\n",
      "estee lauder beyond paradise edp ml uygun fiat orjinal parfüm buradaya teşekkürler tekrar satışta görürsem yine alacağım bulmakta zorlanıyorum \n",
      "**************************************************\n",
      "led türlerinden anladığım için bu led ampulden aldım 10 watt harcama ışık verimi çok iyi içini açmadım ama power led kullanılmış olması lazım çünkü piyasada satılan çoğu led ampul smd led den yapıldığı için boyutu daha büyük olur ve ışık verimi az olur 10 watt olmalarına rağmen. başka marka power led ampulu uzun zamandır kullandığım için bu ampulun kullanım ömrünün uzun olacağını düşünüyorum tabi ara sıra elektronik arıza yapıp çabuk bozulan olabilir bu sizi yanıltmasın gerçek tasarruf ve uzun ömür, içiniz rahat alabilirsiniz \n",
      "--------------------------------------------------\n",
      "led türlerinden anladığım led ampulden aldım watt harcama ışık verimi iyi içini açmadım power led kullanılmış olması lazım piyasada satılan çoğu led ampul smd led den yapıldığı boyutu büyük olur ışık verimi olur watt olmalarına rağmen. başka marka power led ampulu uzun zamandır kullandığım ampulun kullanım ömrünün uzun olacağını düşünüyorum tabi ara sıra elektronik arıza yapıp çabuk bozulan olabilir sizi yanıltmasın gerçek tasarruf uzun ömür, içiniz rahat alabilirsiniz \n",
      "**************************************************\n",
      "kolide halı şampuanı ve parfümü çıktı\n",
      "--------------------------------------------------\n",
      "kolide halı şampuanı parfümü çıktı \n",
      "**************************************************\n"
     ]
    }
   ],
   "source": [
    "for d in data['YORUMLAR'].head():\n",
    "    print(d+ '\\n'+'-'*50)\n",
    "    #etkisiz kelimelerin atılması\n",
    "    temp = ''\n",
    "    for word in d.split():\n",
    "        if word not in etkisiz and not word.isnumeric():\n",
    "            temp += word + ' '\n",
    "    print(temp + '\\n'+'*'*50)"
   ]
  },
  {
   "cell_type": "code",
   "execution_count": 28,
   "id": "89e3707e",
   "metadata": {},
   "outputs": [
    {
     "name": "stdout",
     "output_type": "stream",
     "text": [
      "ben cok begendim ekran goruntusu mukemmel ses kaliteside benim icin yeterli birgunde elime ulasti cok hizli gonderimk tekrar cok tesekkur ederim hepsiburadaya \n",
      "--------------------------------------------------\n",
      " ben cok begendim ekran goruntusu mukemmel ses kaliteside benim icin yeterli birgunde elime ulasti cok hizli gonderimk tekrar cok tesekkur ederim hepsiburadaya \n",
      "**************************************************\n",
      "güzel ve kullanışlı ürün.horoz kargoya çok teşekkür ederiz kapımıza kadar getirdiği için.\n",
      "--------------------------------------------------\n",
      " güzel ve kullanışlı ürünhoroz kargoya çok teşekkür ederiz kapımıza kadar getirdiği için\n",
      "**************************************************\n",
      "estee lauder beyond paradise edp 100 ml  uygun fiat ve orjinal parfüm için hepsi buradaya teşekkürler  tekrar satışta görürsem yine alacağım çünkü bulmakta zorlanıyorum\n",
      "--------------------------------------------------\n",
      " estee lauder beyond paradise edp 100 ml  uygun fiat ve orjinal parfüm için hepsi buradaya teşekkürler  tekrar satışta görürsem yine alacağım çünkü bulmakta zorlanıyorum\n",
      "**************************************************\n",
      "led türlerinden anladığım için bu led ampulden aldım 10 watt harcama ışık verimi çok iyi içini açmadım ama power led kullanılmış olması lazım çünkü piyasada satılan çoğu led ampul smd led den yapıldığı için boyutu daha büyük olur ve ışık verimi az olur 10 watt olmalarına rağmen. başka marka power led ampulu uzun zamandır kullandığım için bu ampulun kullanım ömrünün uzun olacağını düşünüyorum tabi ara sıra elektronik arıza yapıp çabuk bozulan olabilir bu sizi yanıltmasın gerçek tasarruf ve uzun ömür, içiniz rahat alabilirsiniz \n",
      "--------------------------------------------------\n",
      " led türlerinden anladığım için bu led ampulden aldım 10 watt harcama ışık verimi çok iyi içini açmadım ama power led kullanılmış olması lazım çünkü piyasada satılan çoğu led ampul smd led den yapıldığı için boyutu daha büyük olur ve ışık verimi az olur 10 watt olmalarına rağmen başka marka power led ampulu uzun zamandır kullandığım için bu ampulun kullanım ömrünün uzun olacağını düşünüyorum tabi ara sıra elektronik arıza yapıp çabuk bozulan olabilir bu sizi yanıltmasın gerçek tasarruf ve uzun ömür içiniz rahat alabilirsiniz \n",
      "**************************************************\n",
      "kolide halı şampuanı ve parfümü çıktı\n",
      "--------------------------------------------------\n",
      " kolide halı şampuanı ve parfümü çıktı\n",
      "**************************************************\n"
     ]
    }
   ],
   "source": [
    "for d in data['YORUMLAR'].head():\n",
    "    print(d + '\\n'+'-'*50)\n",
    "    temp = ' '\n",
    "    for word in d:\n",
    "        if word not in noktalama:\n",
    "            temp += word\n",
    "    print(temp + '\\n'+'*'*50)\n",
    "    d = temp"
   ]
  },
  {
   "cell_type": "markdown",
   "id": "05c5855b",
   "metadata": {},
   "source": [
    "# Önişlenmiş Veri"
   ]
  },
  {
   "cell_type": "code",
   "execution_count": 16,
   "id": "e56fce8a",
   "metadata": {},
   "outputs": [],
   "source": [
    "data.to_csv(r'./cleaned.csv', index = False)"
   ]
  },
  {
   "cell_type": "code",
   "execution_count": 29,
   "id": "32e0e4b0",
   "metadata": {},
   "outputs": [],
   "source": [
    "import pandas as pd"
   ]
  },
  {
   "cell_type": "code",
   "execution_count": 30,
   "id": "11919984",
   "metadata": {},
   "outputs": [],
   "source": [
    "data = pd.read_csv('cleaned.csv', sep=\",\")"
   ]
  },
  {
   "cell_type": "code",
   "execution_count": 31,
   "id": "d0acab05",
   "metadata": {},
   "outputs": [
    {
     "data": {
      "text/html": [
       "<div>\n",
       "<style scoped>\n",
       "    .dataframe tbody tr th:only-of-type {\n",
       "        vertical-align: middle;\n",
       "    }\n",
       "\n",
       "    .dataframe tbody tr th {\n",
       "        vertical-align: top;\n",
       "    }\n",
       "\n",
       "    .dataframe thead th {\n",
       "        text-align: right;\n",
       "    }\n",
       "</style>\n",
       "<table border=\"1\" class=\"dataframe\">\n",
       "  <thead>\n",
       "    <tr style=\"text-align: right;\">\n",
       "      <th></th>\n",
       "      <th>Unnamed: 0</th>\n",
       "      <th>YORUMLAR</th>\n",
       "      <th>DURUM</th>\n",
       "    </tr>\n",
       "  </thead>\n",
       "  <tbody>\n",
       "    <tr>\n",
       "      <th>0</th>\n",
       "      <td>65648</td>\n",
       "      <td>ben cok begendim ekran goruntusu mukemmel ses ...</td>\n",
       "      <td>pos</td>\n",
       "    </tr>\n",
       "    <tr>\n",
       "      <th>1</th>\n",
       "      <td>81900</td>\n",
       "      <td>güzel ve kullanışlı ürün.horoz kargoya çok teş...</td>\n",
       "      <td>pos</td>\n",
       "    </tr>\n",
       "    <tr>\n",
       "      <th>2</th>\n",
       "      <td>146848</td>\n",
       "      <td>estee lauder beyond paradise edp 100 ml  uygun...</td>\n",
       "      <td>pos</td>\n",
       "    </tr>\n",
       "    <tr>\n",
       "      <th>3</th>\n",
       "      <td>127616</td>\n",
       "      <td>led türlerinden anladığım için bu led ampulden...</td>\n",
       "      <td>pos</td>\n",
       "    </tr>\n",
       "    <tr>\n",
       "      <th>4</th>\n",
       "      <td>113702</td>\n",
       "      <td>kolide halı şampuanı ve parfümü çıktı</td>\n",
       "      <td>pos</td>\n",
       "    </tr>\n",
       "  </tbody>\n",
       "</table>\n",
       "</div>"
      ],
      "text/plain": [
       "   Unnamed: 0                                           YORUMLAR DURUM\n",
       "0       65648  ben cok begendim ekran goruntusu mukemmel ses ...   pos\n",
       "1       81900  güzel ve kullanışlı ürün.horoz kargoya çok teş...   pos\n",
       "2      146848  estee lauder beyond paradise edp 100 ml  uygun...   pos\n",
       "3      127616  led türlerinden anladığım için bu led ampulden...   pos\n",
       "4      113702              kolide halı şampuanı ve parfümü çıktı   pos"
      ]
     },
     "execution_count": 31,
     "metadata": {},
     "output_type": "execute_result"
    }
   ],
   "source": [
    "data.head()"
   ]
  },
  {
   "cell_type": "markdown",
   "id": "18c7f513",
   "metadata": {},
   "source": [
    "# Veri Setini Bölme"
   ]
  },
  {
   "cell_type": "code",
   "execution_count": 32,
   "id": "35b738b7",
   "metadata": {},
   "outputs": [],
   "source": [
    "from sklearn.model_selection import train_test_split"
   ]
  },
  {
   "cell_type": "code",
   "execution_count": 33,
   "id": "b2e41632",
   "metadata": {},
   "outputs": [],
   "source": [
    "X_train, X_test, Y_train, Y_test = train_test_split(data['YORUMLAR'].values.astype('U'),\n",
    "                                                    data['DURUM'].values.astype('U'), test_size=0.1, random_state=42)"
   ]
  },
  {
   "cell_type": "markdown",
   "id": "616ea32d",
   "metadata": {},
   "source": [
    "# Sayma Vektörü Oluşturma\n",
    "\n",
    "### Eğitim kümesindeki cümlelerin sayma vektörlerini çıkarıyoruz."
   ]
  },
  {
   "cell_type": "code",
   "execution_count": 35,
   "id": "ae087e7a",
   "metadata": {},
   "outputs": [
    {
     "name": "stdout",
     "output_type": "stream",
     "text": [
      "(211158, 199413)\n"
     ]
    }
   ],
   "source": [
    "from sklearn.feature_extraction.text import CountVectorizer\n",
    "count_vect = CountVectorizer()\n",
    "X_train_counts = count_vect.fit_transform(X_train)\n",
    "print(X_train_counts.shape)"
   ]
  },
  {
   "cell_type": "markdown",
   "id": "67f1d82b",
   "metadata": {},
   "source": [
    "# TF * IDF Vektörü Oluşturma\n",
    "\n",
    "### Eğitim kümesindeki cümlelerin TF * IDF vektörlerini sayma vektörlerinden oluşturuyoruz."
   ]
  },
  {
   "cell_type": "code",
   "execution_count": 37,
   "id": "014c2f92",
   "metadata": {},
   "outputs": [
    {
     "name": "stdout",
     "output_type": "stream",
     "text": [
      "(211158, 199413)\n"
     ]
    }
   ],
   "source": [
    "from sklearn.feature_extraction.text import TfidfTransformer\n",
    "tfidf_transformer = TfidfTransformer()\n",
    "X_train_tfidf = tfidf_transformer.fit_transform(X_train_counts)\n",
    "print(X_train_tfidf.shape)"
   ]
  },
  {
   "cell_type": "markdown",
   "id": "efc29ec0",
   "metadata": {},
   "source": [
    "# Naive Bayes Model Eğitimi\n",
    "\n",
    "### Çok modlu Naive Bayes sınıflandırıcı eğitiyoruz."
   ]
  },
  {
   "cell_type": "code",
   "execution_count": 39,
   "id": "4a2fa555",
   "metadata": {},
   "outputs": [],
   "source": [
    "from sklearn.naive_bayes import MultinomialNB\n",
    "model = MultinomialNB().fit(X_train_tfidf, Y_train)\n",
    "X_test_counts = count_vect.transform(X_test)\n",
    "X_test_tfidf = tfidf_transformer.transform(X_test_counts)"
   ]
  },
  {
   "cell_type": "markdown",
   "id": "731d6453",
   "metadata": {},
   "source": [
    "# Model Performansı Ölçme\n",
    "\n",
    "### Sınıflandırıcı ile test seti üzerinde tahminleme yapıyoruz."
   ]
  },
  {
   "cell_type": "code",
   "execution_count": 47,
   "id": "3af7a479",
   "metadata": {},
   "outputs": [
    {
     "name": "stdout",
     "output_type": "stream",
     "text": [
      "'ürünü eşime hediye olarak aldım hızlı teslimatınızdan dolayı öncelikle çok teşekkür ederim.' ---> pos\n",
      "'ürün birebir orjinal, kesinlikle tavsiye ediyorum.piyasada olan muadillerinden daha önce almıştım ama ürünün orjinalini alınca gerçekten tabanında ciddi farklılıklar var, tam ortopedik ve şık.' ---> pos\n",
      "'hızlı teslimat,uygun fiyat,evden alışveriş kolaylığı,e daha ne olsuno' ---> pos\n",
      "'41 alsın çünkü en ön kısmı dar ve çok sıkabilir!' ---> pos\n",
      "'kanmera ve fotoğraflar oldukça iyi. şarj cihazı türkiye uyumlu. kutusu düzgün paketlenmiş bir ürün elimize beklediğimizden hızlı ulaşmıştır.' ---> pos\n"
     ]
    }
   ],
   "source": [
    "y_pred = model.predict(X_test_tfidf)\n",
    "for review, sentiment in zip(X_test[:5], y_pred[:]):\n",
    "    print('%r ---> %s' % (review, sentiment))"
   ]
  },
  {
   "cell_type": "markdown",
   "id": "ecb78436",
   "metadata": {},
   "source": [
    "# Test Sonuçları\n",
    "\n",
    "### Performans Sonuçları"
   ]
  },
  {
   "cell_type": "code",
   "execution_count": 49,
   "id": "3bd7455c",
   "metadata": {},
   "outputs": [
    {
     "name": "stdout",
     "output_type": "stream",
     "text": [
      "0.9370072028299876\n"
     ]
    }
   ],
   "source": [
    "from sklearn.metrics import accuracy_score\n",
    "print(accuracy_score(Y_test, y_pred))"
   ]
  },
  {
   "cell_type": "markdown",
   "id": "3549a649",
   "metadata": {},
   "source": [
    "# SONUÇ : \n",
    "\n",
    "## Yaptığımız çalışma sonuç olarak %94 oranında doğru sonuç ortaya çıkardığı gözlemlenmiştir."
   ]
  },
  {
   "cell_type": "code",
   "execution_count": null,
   "id": "d3209df6",
   "metadata": {},
   "outputs": [],
   "source": []
  }
 ],
 "metadata": {
  "kernelspec": {
   "display_name": "Python 3",
   "language": "python",
   "name": "python3"
  },
  "language_info": {
   "codemirror_mode": {
    "name": "ipython",
    "version": 3
   },
   "file_extension": ".py",
   "mimetype": "text/x-python",
   "name": "python",
   "nbconvert_exporter": "python",
   "pygments_lexer": "ipython3",
   "version": "3.7.11"
  }
 },
 "nbformat": 4,
 "nbformat_minor": 5
}
